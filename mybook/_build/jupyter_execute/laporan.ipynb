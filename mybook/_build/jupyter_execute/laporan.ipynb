{
 "cells": [
  {
   "cell_type": "markdown",
   "id": "cbd00936",
   "metadata": {},
   "source": [
    "# Laporan Proyek Sains Data\n",
    "\n",
    "## Pendahuluan\n",
    "\n",
    "### Latar Belakang\n",
    "\n",
    "X minerals Indonesia merupakan perusahaan pertambangan indonesia yang memiliki visi menjadi perusahaan pertambangan indonesia yang terkemuka. Perusahaan ini memiliki salah satu misi yaitu memaksimalkan nilai bagi pemegang saham. Untuk dapat mencapai visi misi perusahaan diperlukan untuk mengetahui harga saham perusahaan kedepannya.\n",
    "\n",
    "Saham adalah surat berharga yang menunjukkan kepemilikan seseorang dalam suatu perusahaan. Tujuan perusahaan menerbitkan saham adalah untuk mendapatkan dana dari pihak yang ingin menanamkan modal untuk mendapatkan keuntungan di masa depan, dana tersebut dapat digunakan untuk mengembangkan bisnis di perusahaan. Saham bersifat fluktuatif, bisa naik bisa turun sama halnya dengan harga barang atau komoditi di pasar. Bagi beberapa orang disanalah seninya, bila pasar statis tidak akan menarik minat investor. Naik turunnya harga saham juga dapat dipengaruhi oleh kinerja perusahaan, semakin baik kinerja perusahaan, maka dapat dipastikan harga saham perusahaan juga naik.\n",
    "\n",
    "### Masalah\n",
    "\n",
    "X minerals indonesia yang memiliki salah satu misi yaitu memaksimalkan nilai bagi pemegang saham. Untuk dapat mencapai misi perusahaan tersebut diperlukan untuk mengetahui harga saham perusahaan kedepannya. Selain itu juga, harga saham yang menurun dalam jangka waktu yang lama dapat membuat investor menjadi hilang kepercayaan kepada perusahaan, hal itu dapat menghambat perkembangan perusahaan. Oleh karena itu muncul ide untuk melakukan peramalan harga saham dimasa mendatang.\n",
    "\n",
    "### Tujuan\n",
    "\n",
    "Dengan dilakukannya peramalan harga saham x minerals indonesia, diharapkan dapat menjadi indikator kinerja perusahaan dan perusahaan dapat mengantisipasi jika diramalkan harga saham turun dikemudian hari, dengan begitu kinerja perusahaan dapat selalu baik dan harga saham dapat terjaga. Hal ini dapat mencapai salah satu misi perusahaan yaitu memaksimalkan nilai bagi pemegang saham. Dan akan ada banyak investor yang tertarik untuk berinvestasi pada perusahaan, hal ini dapat membantu pendanaan perusahaan untuk dapat lebih berkembang.\n",
    "\n",
    "\n",
    "## Metodologi\n",
    "\n",
    "### Memahami Data (Data Understanding)\n",
    "\n",
    "#### Pengumpulan Data\n",
    "\n",
    "Pada tahap ini dilakukan pengumpulan data yang diperlukan untuk proyek, menjelaskan detail saat pengumpulan data seperti sumber data, kondisi data, jumlah data.\n",
    "\n",
    "#### Deskripsi Data\n",
    "\n",
    "Pada tahap ini akan menjelaskan gambaran data yang digunakan seperti menjelaskan fitur fitur data, tipe data, dan lainnya.\n",
    "\n",
    "#### Verifikasi Kualitas Data\n",
    "\n",
    "Pada tahap ini dilakukan evaluasi terhadap data untuk memastikan bahwa data cocok untuk digunakan, apa saja kekurangan data, tindakan apa yang diperlukan untuk mengatasi kekurangan dari data\n",
    "\n",
    "### Pra-pemrosesan Data (Data Preprocessing)\n",
    "\n",
    "#### Memilih Data\n",
    "\n",
    "Sebelum data digunakan, data akan dipilih terlebih dahulu bagian mana saja yang akan digunakan nantinya serta alasan alasan mengapa bagian tersebut digunakan atau mengapa bagian tersebut tidak digunakan.\n",
    "\n",
    "#### Membersihkan Data\n",
    "\n",
    "Pada tahap ini dilakukan pembersihan data sebelum digunakan seperti melakukan penghapusan data maupun baris / kolom yang tidak relevan atau tidak akurat. Pada data cleaning juga menghapus data duplikat untuk menghindari pengaruh analisis yang tidak sesuai.\n",
    "\n",
    "### Pemodelan Data (Data Modelling)\n",
    "\n",
    "#### Memilih Model\n",
    "\n",
    "Memilih model yang paling cocok sesuai dengan topik yang dibawa.\n",
    "\n",
    "#### Membangun Model\n",
    "\n",
    "Membangun model yang sudah ditentukan tekniknya sebelumnya\n",
    "\n",
    "#### Menilai Model\n",
    "\n",
    "Mengevaluasi model yang telah dibuat, menjelaskan kekurangan model, dan hal hal yang perlu diperbaiki untuk model nantinya\n",
    "\n",
    "### Evaluasi\n",
    "\n",
    "Evaluasi akhir yang menjelaskan nilai akhir dari proyek, menjelaskan hasil, kesalahan yang mungkin telah dilakukan saat proses, serta kekurangan dari proyek.\n",
    "\n",
    "### Deployment\n",
    "\n",
    "Bagian ini merupakan langkah terakhir di mana model yang sudah dievaluasi dan dianggap cukup baik diimplementasikan seperti aplikasi web, aplikasi mobile dan lain-lain. Deployment dilakukan setelah hasil model dianalisis dan dianggap layak untuk digunakan.\n",
    "\n",
    "## Penutup\n",
    "\n",
    "Berisikan ucapan penutup dari laporan proyek sains data.\n",
    "\n",
    "## Daftar Rujukan\n",
    "\n",
    "Berisikan rujukan rujukan yang membantu saat melakukan proyek sains data."
   ]
  }
 ],
 "metadata": {
  "jupytext": {
   "formats": "md:myst",
   "text_representation": {
    "extension": ".md",
    "format_name": "myst",
    "format_version": 0.13,
    "jupytext_version": "1.11.5"
   }
  },
  "kernelspec": {
   "display_name": "Python 3",
   "language": "python",
   "name": "python3"
  },
  "language_info": {
   "codemirror_mode": {
    "name": "ipython",
    "version": 3
   },
   "file_extension": ".py",
   "mimetype": "text/x-python",
   "name": "python",
   "nbconvert_exporter": "python",
   "pygments_lexer": "ipython3",
   "version": "3.11.4"
  },
  "source_map": [
   13
  ]
 },
 "nbformat": 4,
 "nbformat_minor": 5
}